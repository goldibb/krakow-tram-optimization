{
  "cells": [
    {
      "cell_type": "markdown",
      "metadata": {},
      "source": [
        "# 🚊 Optymalizacja Tras Tramwajowych w Krakowie\n",
        "\n",
        "**Nowy algorytm optymalizacji zgodny z wymaganiami hackathonu**\n",
        "\n",
        "## 📋 Wymagania projektowe:\n",
        "1. ✅ **Maksymalizacja pokrycia obszarów o dużej gęstości zabudowy** - na podstawie danych buildings_df w promieniu 300m\n",
        "2. ✅ **Maksymalizacja dystansu między przystankami** - unikanie nadmiernej liczby przystanków w małych odległościach\n",
        "3. ✅ **Minimalizacja liczby zakrętów** - możliwie proste trasy, bez nadmiaru skrzyżowań\n",
        "4. ✅ **Brak kolizji z istniejącą infrastrukturą tramwajową** - projektowana trasa nie może pokrywać się z trasami zawartymi w lines_df\n",
        "5. ✅ **Unikanie kolizji z zabudową** - uwzględnienie geometrii budynków z buildings_df\n",
        "6. ✅ **Początek na istniejącym przystanku** - trasa musi rozpoczynać się w jednym z przystanków znajdujących się w stops_df\n",
        "7. ✅ **Lokalne budowanie tras** - bez \"skakania\" z jednej strony miasta do drugiej\n",
        "8. ✅ **Algorytm z uczeniem się** - pamięta udane połączenia i unika złych obszarów\n",
        "\n",
        "## 🧠 Cechy algorytmu:\n",
        "- **Inteligentne budowanie tras krok po kroku**\n",
        "- **Uczenie się z poprzednich iteracji**\n",
        "- **Gwarancja bezpieczeństwa** (brak przecięć z budynkami)\n",
        "- **Optymalizacja gęstości zabudowy i odległości**"
      ]
    },
    {
      "cell_type": "code",
      "execution_count": 1,
      "metadata": {},
      "outputs": [
        {
          "name": "stdout",
          "output_type": "stream",
          "text": [
            "🚊 Moduły załadowane pomyślnie!\n",
            "📁 Upewnij się, że katalog '../data' zawiera pliki:\n",
            "   - buildings.geojson\n",
            "   - streets.geojson\n",
            "   - stops.geojson\n",
            "   - lines.geojson\n"
          ]
        }
      ],
      "source": [
        "# Importy i konfiguracja\n",
        "import sys\n",
        "import os\n",
        "import warnings\n",
        "warnings.filterwarnings('ignore')\n",
        "\n",
        "# Dodaj ścieżkę do modułów projektu\n",
        "sys.path.append('../')\n",
        "\n",
        "# Import głównej funkcji\n",
        "from scripts.smart_optimize_notebook import run_tram_optimization\n",
        "\n",
        "print(\"🚊 Moduły załadowane pomyślnie!\")\n",
        "print(\"📁 Upewnij się, że katalog '../data' zawiera pliki:\")\n",
        "print(\"   - buildings.geojson\")\n",
        "print(\"   - streets.geojson\")\n",
        "print(\"   - stops.geojson\")\n",
        "print(\"   - lines.geojson\")"
      ]
    },
    {
      "cell_type": "markdown",
      "metadata": {},
      "source": [
        "## 🚀 Uruchomienie optymalizacji\n",
        "\n",
        "**Jedna funkcja robi wszystko:**\n",
        "1. Wczytuje dane z plików GeoJSON\n",
        "2. Konfiguruje optymalizator zgodnie z wymaganiami\n",
        "3. Optymalizuje trasy tramwajowe\n",
        "4. Analizuje wyniki\n",
        "5. Tworzy interaktywną mapę\n",
        "6. Zapisuje wyniki"
      ]
    },
    {
      "cell_type": "code",
      "execution_count": null,
      "metadata": {},
      "outputs": [
        {
          "name": "stdout",
          "output_type": "stream",
          "text": [
            "🚊 OPTYMALIZACJA TRAS TRAMWAJOWYCH W KRAKOWIE\n",
            "============================================================\n",
            "📋 Zgodne z wymaganiami hackathonu:\n",
            "   ✓ Maksymalizacja gęstości zabudowy (300m radius)\n",
            "   ✓ Maksymalizacja dystansu między przystankami\n",
            "   ✓ Unikanie kolizji z budynkami (5m buffer)\n",
            "   ✓ Brak pokrywania z istniejącymi liniami (50m buffer)\n",
            "   ✓ Lokalne budowanie tras bez 'skakania'\n",
            "   ✓ Algorytm z uczeniem się\n",
            "============================================================\n",
            "🗂️ Wczytywanie danych o Krakowie...\n"
          ]
        },
        {
          "name": "stderr",
          "output_type": "stream",
          "text": [
            "WARNING:pyogrio._io:Skipping field highway: unsupported OGR type: 5\n",
            "WARNING:pyogrio._io:Skipping field lanes: unsupported OGR type: 5\n",
            "WARNING:pyogrio._io:Skipping field maxspeed: unsupported OGR type: 5\n",
            "WARNING:pyogrio._io:Skipping field name: unsupported OGR type: 5\n",
            "WARNING:pyogrio._io:Skipping field width: unsupported OGR type: 5\n",
            "WARNING:pyogrio._io:Skipping field service: unsupported OGR type: 5\n",
            "WARNING:pyogrio._io:Skipping field bridge: unsupported OGR type: 5\n",
            "WARNING:pyogrio._io:Skipping field access: unsupported OGR type: 5\n",
            "WARNING:pyogrio._io:Skipping field tunnel: unsupported OGR type: 5\n",
            "WARNING:pyogrio._io:Skipping field lines: unsupported OGR type: 1\n"
          ]
        },
        {
          "name": "stdout",
          "output_type": "stream",
          "text": [
            "✅ Wczytano dane:\n",
            "   📘 Budynki: 124,332\n",
            "   🛣️ Ulice: 423,521\n",
            "   🚏 Przystanki: 209\n",
            "   🚊 Linie tramwajowe: 21\n",
            "⚙️ Konfiguracja optymalizatora...\n"
          ]
        },
        {
          "name": "stderr",
          "output_type": "stream",
          "text": [
            "INFO:src.optimization.density_calculator:Kalkulator gęstości zainicjalizowany z 124332 budynkami\n",
            "INFO:src.optimization.smart_route_optimizer:Kalkulator gęstości zainicjalizowany\n",
            "INFO:src.optimization.smart_route_optimizer:Utworzono bufor 5.0m wokół budynków\n",
            "INFO:src.optimization.smart_route_optimizer:Utworzono bufor 50.0m wokół istniejących linii\n",
            "INFO:src.optimization.smart_route_optimizer:KDTree utworzone dla 209 przystanków\n",
            "INFO:src.optimization.smart_route_optimizer:SmartRouteOptimizer zainicjalizowany pomyślnie\n",
            "INFO:src.optimization.smart_route_optimizer:Rozpoczynam optymalizację 3 tras...\n",
            "INFO:src.optimization.smart_route_optimizer:Analizuję gęstość zabudowy dla 209 przystanków...\n"
          ]
        },
        {
          "name": "stdout",
          "output_type": "stream",
          "text": [
            "✅ Optymalizator skonfigurowany zgodnie z wymaganiami hackathonu\n",
            "🚊 Rozpoczynam optymalizację 3 tras tramwajowych...\n",
            "📋 Wymagania:\n",
            "   ✓ Maksymalizacja pokrycia obszarów o dużej gęstości zabudowy\n",
            "   ✓ Maksymalizacja dystansu między przystankami\n",
            "   ✓ Minimalizacja liczby zakrętów\n",
            "   ✓ Unikanie kolizji z budynkami\n",
            "   ✓ Brak pokrywania z istniejącymi liniami\n",
            "   ✓ Lokalne budowanie tras (bez 'skakania')\n"
          ]
        },
        {
          "name": "stderr",
          "output_type": "stream",
          "text": [
            "INFO:src.optimization.smart_route_optimizer:TOP 5 przystanków według gęstości zabudowy:\n",
            "INFO:src.optimization.smart_route_optimizer:  1. Gęstość: 0.42, Coords: (50.05209541356, 19.94194647874)\n",
            "INFO:src.optimization.smart_route_optimizer:  2. Gęstość: 0.41, Coords: (50.06843415538, 19.94552039622)\n",
            "INFO:src.optimization.smart_route_optimizer:  3. Gęstość: 0.41, Coords: (50.0588282452, 19.9409900822)\n",
            "INFO:src.optimization.smart_route_optimizer:  4. Gęstość: 0.41, Coords: (50.05959186242, 19.93807617)\n",
            "INFO:src.optimization.smart_route_optimizer:  5. Gęstość: 0.40, Coords: (50.06397773084, 19.93308613008)\n",
            "INFO:src.optimization.smart_route_optimizer:TOP 5 przystanków według gęstości zabudowy:\n",
            "INFO:src.optimization.smart_route_optimizer:  1. Gęstość: 0.42, Coords: (50.05209541356, 19.94194647874)\n",
            "INFO:src.optimization.smart_route_optimizer:  2. Gęstość: 0.41, Coords: (50.06843415538, 19.94552039622)\n",
            "INFO:src.optimization.smart_route_optimizer:  3. Gęstość: 0.41, Coords: (50.0588282452, 19.9409900822)\n",
            "INFO:src.optimization.smart_route_optimizer:  4. Gęstość: 0.41, Coords: (50.05959186242, 19.93807617)\n",
            "INFO:src.optimization.smart_route_optimizer:  5. Gęstość: 0.40, Coords: (50.06397773084, 19.93308613008)\n",
            "INFO:src.optimization.smart_route_optimizer:Optymalizacja trasy 1/3\n",
            "INFO:src.optimization.smart_route_optimizer:Nowa najlepsza trasa 1: 12 przystanków, ocena: 56.54\n",
            "INFO:src.optimization.smart_route_optimizer:Nowa najlepsza trasa 1: 10 przystanków, ocena: 56.71\n",
            "INFO:src.optimization.smart_route_optimizer:Nowa najlepsza trasa 1: 7 przystanków, ocena: 63.32\n",
            "INFO:src.optimization.smart_route_optimizer:Nowa najlepsza trasa 1: 4 przystanków, ocena: 70.60\n",
            "INFO:src.optimization.smart_route_optimizer:Nowa najlepsza trasa 1: 13 przystanków, ocena: 72.01\n",
            "INFO:src.optimization.smart_route_optimizer:Nowa najlepsza trasa 1: 11 przystanków, ocena: 86.46\n",
            "INFO:src.optimization.smart_route_optimizer:Nowa najlepsza trasa 1: 13 przystanków, ocena: 100.00\n",
            "INFO:src.optimization.smart_route_optimizer:✅ Znaleziono trasę 1: 13 przystanków, ocena: 100.00 (sprawdzono 50 prawidłowych tras)\n",
            "INFO:src.optimization.smart_route_optimizer:Optymalizacja trasy 2/3\n",
            "INFO:src.optimization.smart_route_optimizer:Nowa najlepsza trasa 2: 10 przystanków, ocena: 100.00\n"
          ]
        }
      ],
      "source": [
        "# GŁÓWNE URUCHOMIENIE - jedna funkcja robi wszystko!\n",
        "routes, interactive_map = run_tram_optimization(\n",
        "    data_dir='../data',      # Katalog z danymi\n",
        "    num_routes=3,            # Liczba tras do optymalizacji\n",
        "    save_map=True            # Czy zapisać mapę do pliku\n",
        ")"
      ]
    },
    {
      "cell_type": "markdown",
      "metadata": {},
      "source": [
        "## 🗺️ Wyświetlanie interaktywnej mapy\n",
        "\n",
        "Mapa pokazuje:\n",
        "- **Szare linie** - istniejące linie tramwajowe\n",
        "- **Szare kropki** - wszystkie przystanki\n",
        "- **Kolorowe linie** - nowe zoptymalizowane trasy\n",
        "- **Kolorowe kropki** - przystanki na nowych trasach"
      ]
    },
    {
      "cell_type": "code",
      "execution_count": null,
      "metadata": {},
      "outputs": [],
      "source": [
        "# Wyświetl interaktywną mapę w notebooku\n",
        "if interactive_map:\n",
        "    display(interactive_map)\n",
        "else:\n",
        "    print(\"❌ Nie udało się utworzyć mapy\")"
      ]
    },
    {
      "cell_type": "markdown",
      "metadata": {},
      "source": [
        "## 📊 Szczegółowa analiza tras\n",
        "\n",
        "Sprawdźmy szczegóły znalezionych tras:"
      ]
    },
    {
      "cell_type": "code",
      "execution_count": null,
      "metadata": {},
      "outputs": [],
      "source": [
        "# Analiza szczegółowa tras\n",
        "if routes:\n",
        "    print(f\"🎉 Znaleziono {len(routes)} tras!\\n\")\n",
        "    \n",
        "    for i, (route, score) in enumerate(routes, 1):\n",
        "        print(f\"🚊 TRASA {i}:\")\n",
        "        print(f\"   📊 Ocena: {score:.1f}/100\")\n",
        "        print(f\"   🚏 Liczba przystanków: {len(route)}\")\n",
        "        print(f\"   📍 Start: {route[0]}\")\n",
        "        print(f\"   🏁 Koniec: {route[-1]}\")\n",
        "        print(f\"   🗺️ Zakres geograficzny:\")\n",
        "        print(f\"      Lat: {min(p[0] for p in route):.4f} - {max(p[0] for p in route):.4f}\")\n",
        "        print(f\"      Lon: {min(p[1] for p in route):.4f} - {max(p[1] for p in route):.4f}\")\n",
        "        print()\n",
        "else:\n",
        "    print(\"❌ Brak tras do analizy\")"
      ]
    },
    {
      "cell_type": "markdown",
      "metadata": {},
      "source": [
        "## 🔧 Dostęp do komponentów (opcjonalnie)\n",
        "\n",
        "Jeśli chcesz eksperymentować z parametrami:"
      ]
    },
    {
      "cell_type": "code",
      "execution_count": null,
      "metadata": {},
      "outputs": [],
      "source": [
        "# Import komponentów do eksperymentowania\n",
        "from scripts.smart_optimize_notebook import (\n",
        "    load_krakow_data, \n",
        "    setup_optimizer,\n",
        "    optimize_tram_routes,\n",
        "    create_interactive_map\n",
        ")\n",
        "from src.optimization.smart_route_optimizer import RouteConstraints\n",
        "\n",
        "print(\"🔧 Komponenty załadowane - możesz eksperymentować z parametrami\")"
      ]
    },
    {
      "cell_type": "code",
      "execution_count": null,
      "metadata": {},
      "outputs": [],
      "source": [
        "# Przykład: eksperymentowanie z parametrami\n",
        "# Wczytaj dane\n",
        "buildings_df, streets_df, stops_df, lines_df = load_krakow_data('../data')\n",
        "\n",
        "# Niestandardowe ograniczenia\n",
        "custom_constraints = RouteConstraints(\n",
        "    min_distance_between_stops=300,    # Mniejsze minimum\n",
        "    max_distance_between_stops=800,    # Większe maximum\n",
        "    min_total_length=2000,             # Dłuższe trasy\n",
        "    max_total_length=12000,            # Krótsze maximum\n",
        "    min_route_stops=5,                 # Więcej przystanków minimum\n",
        "    max_route_stops=12,                # Mniej przystanków maximum\n",
        "    min_distance_from_buildings=3.0,   # Mniejszy bufor od budynków\n",
        "    buffer_around_existing_lines=30.0  # Mniejszy bufor od linii\n",
        ")\n",
        "\n",
        "print(\"⚙️ Ograniczenia skonfigurowane\")"
      ]
    },
    {
      "cell_type": "code",
      "execution_count": null,
      "metadata": {},
      "outputs": [],
      "source": [
        "# Stwórz optymalizator z niestandardowymi parametrami\n",
        "from src.optimization.smart_route_optimizer import SmartRouteOptimizer\n",
        "\n",
        "custom_optimizer = SmartRouteOptimizer(\n",
        "    buildings_df=buildings_df,\n",
        "    streets_df=streets_df,\n",
        "    stops_df=stops_df,\n",
        "    lines_df=lines_df,\n",
        "    constraints=custom_constraints\n",
        ")\n",
        "\n",
        "print(\"✅ Niestandardowy optymalizator utworzony\")"
      ]
    },
    {
      "cell_type": "code",
      "execution_count": null,
      "metadata": {},
      "outputs": [],
      "source": [
        "# Uruchom optymalizację z niestandardowymi parametrami\n",
        "custom_routes = custom_optimizer.optimize_routes(\n",
        "    num_routes=2,           # Mniej tras\n",
        "    max_iterations=30       # Mniej iteracji (szybsze)\n",
        ")\n",
        "\n",
        "print(f\"🎯 Znaleziono {len(custom_routes)} tras z niestandardowymi parametrami\")\n",
        "\n",
        "# Pokaż statystyki uczenia się\n",
        "stats = custom_optimizer.get_optimization_stats()\n",
        "print(f\"\\n📊 Statystyki:\")\n",
        "print(f\"   🧠 Zapamiętane trasy: {stats['successful_routes']}\")\n",
        "print(f\"   🔗 Nauczone połączenia: {stats['learned_connections']}\")\n",
        "print(f\"   ❌ Złe obszary: {stats['bad_areas']}\")"
      ]
    },
    {
      "cell_type": "markdown",
      "metadata": {},
      "source": [
        "## 💾 Zapisane pliki\n",
        "\n",
        "Po uruchomieniu optymalizacji zostały utworzone pliki w katalogu `../results/`:\n",
        "\n",
        "1. **`optimized_routes.csv`** - Trasy w formacie CSV\n",
        "2. **`optimized_routes.geojson`** - Trasy w formacie GeoJSON\n",
        "3. **`interactive_map.html`** - Interaktywna mapa HTML\n",
        "\n",
        "## 🏆 Podsumowanie wyników\n",
        "\n",
        "Algorytm spełnia **WSZYSTKIE** wymagania hackathonu:\n",
        "\n",
        "✅ **Maksymalizuje pokrycie obszarów o dużej gęstości zabudowy** - wybiera przystanki o najwyższej gęstości w promieniu 300m  \n",
        "✅ **Maksymalizuje dystans między przystankami** - optymalizuje odległości 350-700m  \n",
        "✅ **Minimalizuje liczbę zakrętów** - buduje proste, lokalne trasy  \n",
        "✅ **Unika kolizji z budynkami** - bufor 5m bezpieczeństwa  \n",
        "✅ **Nie pokrywa się z istniejącymi liniami** - bufor 50m  \n",
        "✅ **Rozpoczyna na istniejących przystankach** - używa tylko przystanków z stops_df  \n",
        "✅ **Lokalne budowanie tras** - żadnych \"skoków\" między dzielnicami  \n",
        "✅ **Uczenie się** - algorytm pamięta udane połączenia i unika problemowych obszarów"
      ]
    },
    {
      "cell_type": "markdown",
      "metadata": {},
      "source": [
        "---\n",
        "\n",
        "## 🚀 Jak używać tego kodu w innych projektach:\n",
        "\n",
        "```python\n",
        "# Szybkie uruchomienie - jedna linijka\n",
        "from scripts.smart_optimize_notebook import run_tram_optimization\n",
        "routes, map_viz = run_tram_optimization()\n",
        "map_viz  # wyświetl mapę\n",
        "\n",
        "# Lub z parametrami\n",
        "routes, map_viz = run_tram_optimization(\n",
        "    data_dir='./moje_dane',\n",
        "    num_routes=5,\n",
        "    save_map=True\n",
        ")\n",
        "```\n",
        "\n",
        "## 📚 Struktura danych wyjściowych:\n",
        "\n",
        "```python\n",
        "# routes to lista par: (trasa, ocena)\n",
        "for route, score in routes:\n",
        "    print(f\"Trasa z oceną {score:.1f}:\")\n",
        "    for lat, lon in route:\n",
        "        print(f\"  Przystanek: {lat:.6f}, {lon:.6f}\")\n",
        "```"
      ]
    }
  ],
  "metadata": {
    "kernelspec": {
      "display_name": "hackathon_env",
      "language": "python",
      "name": "python3"
    },
    "language_info": {
      "codemirror_mode": {
        "name": "ipython",
        "version": 3
      },
      "file_extension": ".py",
      "mimetype": "text/x-python",
      "name": "python",
      "nbconvert_exporter": "python",
      "pygments_lexer": "ipython3",
      "version": "3.13.3"
    }
  },
  "nbformat": 4,
  "nbformat_minor": 4
}
