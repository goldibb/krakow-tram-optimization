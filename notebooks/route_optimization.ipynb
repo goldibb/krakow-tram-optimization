{
 "cells": [
  {
   "cell_type": "markdown",
   "metadata": {},
   "source": [
    "# Optymalizacja trasy tramwajowej\n",
    "\n",
    "Ten notebook zawiera wizualizację i optymalizację trasy tramwajowej w Krakowie."
   ]
  },
  {
   "cell_type": "code",
   "execution_count": 1,
   "metadata": {},
   "outputs": [
    {
     "name": "stderr",
     "output_type": "stream",
     "text": [
      "INFO:scripts.sourcing_data:Logging initialized.\n"
     ]
    }
   ],
   "source": [
    "import sys\n",
    "import os\n",
    "sys.path.append(os.path.dirname(os.path.dirname(os.path.abspath('__file__'))))\n",
    "\n",
    "import geopandas as gpd\n",
    "from src.optimization.route_optimizer import RouteOptimizer, RouteConstraints\n",
    "from src.visualization.route_visualizer import RouteVisualizer\n",
    "from scripts.sourcing_data import TramData, OpenStreetMapData\n",
    "from shapely.geometry import Point, LineString\n",
    "import folium\n",
    "import logging\n",
    "import numpy as np\n",
    "import random\n",
    "\n",
    "logging.basicConfig(level=logging.INFO)\n",
    "logger = logging.getLogger(__name__)"
   ]
  },
  {
   "cell_type": "markdown",
   "metadata": {},
   "source": [
    "## Pobieranie danych"
   ]
  },
  {
   "cell_type": "code",
   "execution_count": 4,
   "metadata": {},
   "outputs": [
    {
     "name": "stderr",
     "output_type": "stream",
     "text": [
      "INFO:__main__:Wczytywanie danych z plików GeoJSON...\n",
      "WARNING:pyogrio._io:Skipping field highway: unsupported OGR type: 5\n",
      "WARNING:pyogrio._io:Skipping field lanes: unsupported OGR type: 5\n",
      "WARNING:pyogrio._io:Skipping field maxspeed: unsupported OGR type: 5\n",
      "WARNING:pyogrio._io:Skipping field name: unsupported OGR type: 5\n",
      "WARNING:pyogrio._io:Skipping field width: unsupported OGR type: 5\n",
      "WARNING:pyogrio._io:Skipping field service: unsupported OGR type: 5\n",
      "WARNING:pyogrio._io:Skipping field bridge: unsupported OGR type: 5\n",
      "WARNING:pyogrio._io:Skipping field access: unsupported OGR type: 5\n",
      "WARNING:pyogrio._io:Skipping field tunnel: unsupported OGR type: 5\n",
      "WARNING:pyogrio._io:Skipping field lines: unsupported OGR type: 1\n",
      "INFO:__main__:Wczytano 124332 budynków\n",
      "INFO:__main__:Wczytano 423521 ulic\n",
      "INFO:__main__:Wczytano 209 przystanków\n",
      "INFO:__main__:Wczytano 21 linii tramwajowych\n"
     ]
    }
   ],
   "source": [
    "def load_data(data_dir: str) -> tuple[gpd.GeoDataFrame, gpd.GeoDataFrame, gpd.GeoDataFrame, gpd.GeoDataFrame]:\n",
    "    \"\"\"\n",
    "    Wczytuje dane z plików GeoJSON.\n",
    "    \n",
    "    Args:\n",
    "        data_dir: Katalog z danymi\n",
    "        \n",
    "    Returns:\n",
    "        tuple[gpd.GeoDataFrame, gpd.GeoDataFrame, gpd.GeoDataFrame, gpd.GeoDataFrame]: \n",
    "            DataFrames z budynkami, ulicami, przystankami i liniami\n",
    "    \"\"\"\n",
    "    \n",
    "    buildings_path = os.path.join(data_dir, 'buildings.geojson')\n",
    "    streets_path = os.path.join(data_dir, 'streets.geojson')\n",
    "    stops_path = os.path.join(data_dir, 'stops.geojson')\n",
    "    lines_path = os.path.join(data_dir, 'lines.geojson')\n",
    "    \n",
    "    logger.info(\"Wczytywanie danych z plików GeoJSON...\")\n",
    "    buildings_df = gpd.read_file(buildings_path)\n",
    "    streets_df = gpd.read_file(streets_path)\n",
    "    stops_df = gpd.read_file(stops_path)\n",
    "    lines_df = gpd.read_file(lines_path)\n",
    "    \n",
    "    logger.info(f\"Wczytano {len(buildings_df)} budynków\")\n",
    "    logger.info(f\"Wczytano {len(streets_df)} ulic\")\n",
    "    logger.info(f\"Wczytano {len(stops_df)} przystanków\")\n",
    "    logger.info(f\"Wczytano {len(lines_df)} linii tramwajowych\")\n",
    "    return buildings_df, streets_df, stops_df, lines_df\n",
    "   \n",
    "data_dir = os.path.join(os.path.dirname(os.path.dirname(os.path.abspath('__file__'))), 'data')\n",
    "buildings_df, streets_df, stops_df, lines_df = load_data(data_dir)"
   ]
  },
  {
   "cell_type": "markdown",
   "metadata": {},
   "source": [
    "## Wizualizacja istniejących danych"
   ]
  },
  {
   "cell_type": "code",
   "execution_count": null,
   "metadata": {},
   "outputs": [],
   "source": [
    "# Inicjalizacja wizualizatora\n",
    "visualizer = RouteVisualizer(buildings_df, streets_df)\n",
    "\n",
    "# Tworzenie podstawowej mapy\n",
    "m = visualizer.create_base_map()\n",
    "\n",
    "# Dodawanie istniejących linii\n",
    "for _, row in lines_df.iterrows():\n",
    "    coords = [(lat, lon) for lon, lat in row.geometry.coords]\n",
    "    visualizer.plot_route(coords, m, f\"Linia {row['line']}\", color='gray')\n",
    "\n",
    "# Dodawanie przystanków\n",
    "for _, row in stops_df.iterrows():\n",
    "    folium.CircleMarker(\n",
    "        location=[row.geometry.y, row.geometry.x],\n",
    "        radius=4,\n",
    "        color='red',\n",
    "        fill=True,\n",
    "        popup=f'Przystanek {row.name}',\n",
    "        name=f'Przystanek {row.name}'\n",
    "    ).add_to(m)\n",
    "    \n",
    "m"
   ]
  },
  {
   "cell_type": "markdown",
   "metadata": {},
   "source": [
    "## Optymalizacja trasy z wizualizacją procesu"
   ]
  },
  {
   "cell_type": "code",
   "execution_count": null,
   "metadata": {},
   "outputs": [],
   "source": [
    "# Konfiguracja ograniczeń\n",
    "constraints = RouteConstraints(\n",
    "    min_distance_between_stops=200,  # 200m między przystankami\n",
    "    max_distance_between_stops=1500,  # 1500m między przystankami\n",
    "    max_angle=60,  # maksymalny kąt zakrętu\n",
    "    min_route_length=3,  # minimalna liczba przystanków\n",
    "    max_route_length=20,  # maksymalna liczba przystanków\n",
    "    min_total_length=1000,  # minimalna długość trasy\n",
    "    max_total_length=15000,  # maksymalna długość trasy\n",
    "    min_distance_from_buildings=3  # minimalna odległość od budynków\n",
    ")\n",
    "\n",
    "# Inicjalizacja optymalizatora\n",
    "optimizer = RouteOptimizer(\n",
    "    buildings_df=buildings_df,\n",
    "    streets_df=streets_df,\n",
    "    stops_df=stops_df,\n",
    "    lines_df=lines_df,\n",
    "    constraints=constraints,\n",
    "    population_size=1000,\n",
    "    generations=500,\n",
    "    mutation_rate=0.1,\n",
    "    crossover_rate=0.8,\n",
    "    min_stop_distance=200,  # 200 metrów\n",
    "    max_stop_distance=1500,  # 1500 metrów\n",
    "    population_weight=0.7,\n",
    "    distance_weight=0.3\n",
    ")\n",
    "\n",
    "# Przygotowanie do wizualizacji\n",
    "scores_history = []\n",
    "best_route = None\n",
    "best_score = float('-inf')\n",
    "\n",
    "# Uruchomienie optymalizacji z wizualizacją\n",
    "population = optimizer._create_initial_population()\n",
    "\n",
    "for generation in range(optimizer.generations):\n",
    "    # Ocena populacji\n",
    "    scores = [optimizer._evaluate_route(route) for route in population]\n",
    "    \n",
    "    # Aktualizacja najlepszej trasy\n",
    "    max_score_idx = np.argmax(scores)\n",
    "    if scores[max_score_idx] > best_score:\n",
    "        best_score = scores[max_score_idx]\n",
    "        best_route = population[max_score_idx]\n",
    "    \n",
    "    scores_history.append(best_score)\n",
    "    \n",
    "    # Obliczenie granic obszaru\n",
    "    bounds = (\n",
    "        min(lon for lat, lon in best_route),\n",
    "        min(lat for lat, lon in best_route),\n",
    "        max(lon for lat, lon in best_route),\n",
    "        max(lat for lat, lon in best_route)\n",
    "    )\n",
    "    \n",
    "    # Generowanie mapy gęstości\n",
    "    density_map = optimizer.density_calculator.get_density_map(\n",
    "        grid_size=0.001,\n",
    "        bounds=bounds\n",
    "    )\n",
    "    \n",
    "    # Wizualizacja procesu\n",
    "    visualizer.visualize_optimization_process(\n",
    "        population=population,\n",
    "        scores=scores,\n",
    "        generation=generation + 1,\n",
    "        best_route=best_route,\n",
    "        best_score=best_score,\n",
    "        bounds=bounds,\n",
    "        density_map=density_map,\n",
    "        update_interval=0.5\n",
    "    )\n",
    "    \n",
    "    # Selekcja i tworzenie nowej populacji\n",
    "    selected_indices = np.argsort(scores)[-optimizer.population_size//2:]\n",
    "    selected = [population[i] for i in selected_indices]\n",
    "    \n",
    "    new_population = selected.copy()\n",
    "    \n",
    "    while len(new_population) < optimizer.population_size:\n",
    "        parent1, parent2 = random.sample(selected, 2)\n",
    "        child1, child2 = optimizer._crossover(parent1, parent2)\n",
    "        \n",
    "        child1 = optimizer._mutate(child1)\n",
    "        child2 = optimizer._mutate(child2)\n",
    "        \n",
    "        if optimizer._is_valid_route(child1):\n",
    "            new_population.append(child1)\n",
    "        if optimizer._is_valid_route(child2) and len(new_population) < optimizer.population_size:\n",
    "            new_population.append(child2)\n",
    "    \n",
    "    population = new_population"
   ]
  },
  {
   "cell_type": "markdown",
   "metadata": {},
   "source": [
    "## Wizualizacja postępu optymalizacji"
   ]
  },
  {
   "cell_type": "code",
   "execution_count": null,
   "metadata": {},
   "outputs": [],
   "source": [
    "visualizer.plot_optimization_progress(scores_history)"
   ]
  }
 ],
 "metadata": {
  "kernelspec": {
   "display_name": "hackathon_env",
   "language": "python",
   "name": "python3"
  },
  "language_info": {
   "codemirror_mode": {
    "name": "ipython",
    "version": 3
   },
   "file_extension": ".py",
   "mimetype": "text/x-python",
   "name": "python",
   "nbconvert_exporter": "python",
   "pygments_lexer": "ipython3",
   "version": "3.13.2"
  }
 },
 "nbformat": 4,
 "nbformat_minor": 4
}
